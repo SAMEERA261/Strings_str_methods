{
 "cells": [
  {
   "cell_type": "markdown",
   "id": "59d31f69",
   "metadata": {},
   "source": [
    "# Strings\n",
    "\n",
    "* strings are characters or a sequence of characters enclosed in qoutes (single,double and triple-single or triple-double qoutes)\n",
    "\n",
    "* triple qoutes are used as multiline strings ,multiline comments and as doc strings."
   ]
  },
  {
   "cell_type": "markdown",
   "id": "ffa9de9e",
   "metadata": {},
   "source": [
    "## Creating strings\n",
    "\n",
    "* You can create a string in Python by enclosing characters in either single quotes (') or double quotes (\") or triple-single  qoute and triple-double qoutes."
   ]
  },
  {
   "cell_type": "code",
   "execution_count": 79,
   "id": "8b085a69",
   "metadata": {},
   "outputs": [
    {
     "name": "stdout",
     "output_type": "stream",
     "text": [
      "this is a string ,enclosed in single qoutes\n",
      "this is a string ,enclosed in double qoutes\n",
      "this is a multi-string ,enclosed in triple single qoutes\n"
     ]
    },
    {
     "data": {
      "text/plain": [
       "'this is a multi- line comment ,created by using triple double qoutes'"
      ]
     },
     "execution_count": 79,
     "metadata": {},
     "output_type": "execute_result"
    }
   ],
   "source": [
    "s1 = 'this is a string ,enclosed in single qoutes'#creating strings\n",
    "s2 = \"this is a string ,enclosed in double qoutes\"\n",
    "s3 = '''this is a multi-string ,enclosed in triple single qoutes'''\n",
    "print(s1,s2,s3,sep='\\n')\n",
    "\"\"\"this is a multi- line comment ,created by using triple double qoutes\"\"\""
   ]
  },
  {
   "cell_type": "markdown",
   "id": "49e7bf89",
   "metadata": {},
   "source": [
    "## ESCAPE PATH\n",
    "\n",
    "*  the escape character is a backslash (\\). It is used to escape special characters in strings, allowing you to include characters that would otherwise be interpreted differently. Here are some common escape sequences in Python:"
   ]
  },
  {
   "cell_type": "markdown",
   "id": "3122d300",
   "metadata": {},
   "source": [
    "### Newline (\\n):"
   ]
  },
  {
   "cell_type": "code",
   "execution_count": 80,
   "id": "273cafbc",
   "metadata": {},
   "outputs": [
    {
     "name": "stdout",
     "output_type": "stream",
     "text": [
      "This is a line.\n",
      "This is a new line.\n"
     ]
    }
   ],
   "source": [
    "print(\"This is a line.\\nThis is a new line.\")\n"
   ]
  },
  {
   "cell_type": "markdown",
   "id": "54d81336",
   "metadata": {},
   "source": [
    "### Tab (\\t):"
   ]
  },
  {
   "cell_type": "code",
   "execution_count": 81,
   "id": "78fc8080",
   "metadata": {},
   "outputs": [
    {
     "name": "stdout",
     "output_type": "stream",
     "text": [
      "First column\tSecond column\n"
     ]
    }
   ],
   "source": [
    "print(\"First column\\tSecond column\")\n"
   ]
  },
  {
   "cell_type": "markdown",
   "id": "a7bbe009",
   "metadata": {},
   "source": [
    "### Backslash (\\\\):"
   ]
  },
  {
   "cell_type": "code",
   "execution_count": 82,
   "id": "8aa47659",
   "metadata": {},
   "outputs": [
    {
     "name": "stdout",
     "output_type": "stream",
     "text": [
      "This is a backslash: \\\n"
     ]
    }
   ],
   "source": [
    "print(\"This is a backslash: \\\\\")"
   ]
  },
  {
   "cell_type": "markdown",
   "id": "5e42bc41",
   "metadata": {},
   "source": [
    "### Single Quote (\\'):"
   ]
  },
  {
   "cell_type": "code",
   "execution_count": 83,
   "id": "23cec691",
   "metadata": {},
   "outputs": [
    {
     "name": "stdout",
     "output_type": "stream",
     "text": [
      "This is a single-quoted string with an escaped single quote: '\n"
     ]
    }
   ],
   "source": [
    "print('This is a single-quoted string with an escaped single quote: \\'')\n"
   ]
  },
  {
   "cell_type": "markdown",
   "id": "b87012e4",
   "metadata": {},
   "source": [
    "### Double Quote (\\\"):"
   ]
  },
  {
   "cell_type": "code",
   "execution_count": 84,
   "id": "3fd51de5",
   "metadata": {},
   "outputs": [
    {
     "name": "stdout",
     "output_type": "stream",
     "text": [
      "This is a double-quoted string with an escaped double quote: \"\n"
     ]
    }
   ],
   "source": [
    "print(\"This is a double-quoted string with an escaped double quote: \\\"\")\n"
   ]
  },
  {
   "cell_type": "markdown",
   "id": "a8066eb8",
   "metadata": {},
   "source": [
    "### Raw Strings (r or R prefix):"
   ]
  },
  {
   "cell_type": "code",
   "execution_count": 85,
   "id": "084b84c8",
   "metadata": {},
   "outputs": [
    {
     "name": "stdout",
     "output_type": "stream",
     "text": [
      "This is a raw string with \\n and \\t treated literally.\n"
     ]
    }
   ],
   "source": [
    "print(r\"This is a raw string with \\n and \\t treated literally.\")\n"
   ]
  },
  {
   "cell_type": "markdown",
   "id": "a943f229",
   "metadata": {},
   "source": [
    "### Formatting string ():\n",
    "* F-strings allow you to directly embed variables and expressions inside curly braces within a string.\n",
    "\n",
    "* commonly used methods are %-formatting, str.format(), and f-strings:\n",
    "\n",
    "1. %-formatting:\n",
    "    This is an older method that uses the % operator. You create a string with placeholders, and then use the % operator to         replace them with values.\n",
    "2. str.format():\n",
    "    This method uses the format() method to substitute values into placeholders within a string. \n",
    "3. f-strings (formatted string literals):\n",
    "    Introduced in Python 3.6, f-strings provide a concise and readable way to embed expressions inside string literals.    \n",
    "    \n",
    "    \n",
    "    "
   ]
  },
  {
   "cell_type": "code",
   "execution_count": 86,
   "id": "b94f0699",
   "metadata": {
    "scrolled": true
   },
   "outputs": [
    {
     "name": "stdout",
     "output_type": "stream",
     "text": [
      "My name is Sameera and I am 23 years old.\n",
      "My name is Sameera and I am 23 years old.\n",
      "My name is sameera and I am 23 years old.\n"
     ]
    }
   ],
   "source": [
    "name = \"Sameera\" # %-formatting\n",
    "age = 23\n",
    "\n",
    "formatted_string = \"My name is %s and I am %d years old.\" % (name, age)\n",
    "print(formatted_string)\n",
    "\n",
    "name = \"Sameera\" #str.format()\n",
    "age = 23\n",
    "\n",
    "formatted_string = \"My name is {} and I am {} years old.\".format(name, age)\n",
    "print(formatted_string)\n",
    "\n",
    "name = \"sameera\" #f-strings (formatted string literals)\n",
    "age = 23\n",
    "\n",
    "formatted_string = f\"My name is {name} and I am {age} years old.\"\n",
    "print(formatted_string)\n"
   ]
  },
  {
   "cell_type": "code",
   "execution_count": 87,
   "id": "4557f41b",
   "metadata": {},
   "outputs": [
    {
     "name": "stdout",
     "output_type": "stream",
     "text": [
      "a sphere with diameter 10 cms,volume will be 523.8095238095237 cubic cms\n"
     ]
    }
   ],
   "source": [
    "print(f'a sphere with diameter {10} cms,volume will be {(22/7)*(10/2)**3*(4/3)} cubic cms')#formatting string example"
   ]
  },
  {
   "cell_type": "markdown",
   "id": "4c54477c",
   "metadata": {},
   "source": [
    "### strings can be indexed :“Indexing” means referring to an element of an iterable by its position within the iterable.\n",
    "\n",
    "* since strings are sequence of chars,and this seq has an indexing value.\n",
    "\n",
    "## Indexing is of two types:\n",
    "1. Accessing Characters by Positive Index Number\n",
    "2. Accessing Characters by Negative Index Number\n",
    "\n",
    "* Positive indexing starts from the beginning of the sequence (index 0), while negative indexing starts from the end (index -1).\n"
   ]
  },
  {
   "cell_type": "markdown",
   "id": "93a0b19f",
   "metadata": {},
   "source": [
    "#### positive indexing :\n",
    "\n",
    "* in positive indexing ,we move from left to right and the start index is '0' and the end index is 'n-1',where n is len of the string.\n",
    " "
   ]
  },
  {
   "cell_type": "code",
   "execution_count": 88,
   "id": "653a2fba",
   "metadata": {},
   "outputs": [
    {
     "name": "stdout",
     "output_type": "stream",
     "text": [
      "h\n"
     ]
    }
   ],
   "source": [
    "x='python'\n",
    "\n",
    "print (x[3])#accessing h"
   ]
  },
  {
   "cell_type": "markdown",
   "id": "b8204839",
   "metadata": {},
   "source": [
    "#### Negative indexing:\n",
    "\n",
    "\n",
    "* in negative indexing ,we move from right to left and the start index is '-1' and the end index is '-n',where n is len of the string.\n",
    "\n",
    "* backward direction indexing"
   ]
  },
  {
   "cell_type": "code",
   "execution_count": 89,
   "id": "56e7c0fe",
   "metadata": {},
   "outputs": [
    {
     "name": "stdout",
     "output_type": "stream",
     "text": [
      "h\n"
     ]
    }
   ],
   "source": [
    "print(x[-3])#accessing h using negative indexing"
   ]
  },
  {
   "cell_type": "markdown",
   "id": "c1138c1a",
   "metadata": {},
   "source": [
    "## Slicing\n",
    "\n",
    "* the extraction of a part of a string, list, or tuple.\n",
    "\n",
    "    * it can be viewed as : Collection[start:end:step]\n",
    "\n",
    "* start position is a and end is n so we start with a and we stop until m as n is not considered\n",
    "\n",
    "1. start\n",
    "2. end\n",
    "3. step sclicing\n",
    "\n",
    "<b>slicing using positive indexing</b>"
   ]
  },
  {
   "cell_type": "code",
   "execution_count": 90,
   "id": "0c7ef281",
   "metadata": {
    "scrolled": false
   },
   "outputs": [
    {
     "name": "stdout",
     "output_type": "stream",
     "text": [
      "55\n",
      "i am doreamon\n",
      "i am doreamon in my own imagination its g\n",
      "ia oemni yoniaiainisg\n",
      "imoannywigaoi oti\n",
      "i am doreamon in my own imagination its good to imagine\n",
      "doreamon \n"
     ]
    }
   ],
   "source": [
    "x='i am doreamon in my own imagination its good to imagine'\n",
    "\n",
    "print (len(x))\n",
    "\n",
    "print(x[0:13])\n",
    "\n",
    "print(x[0:41])\n",
    "\n",
    "print(x[0:41:2])#step sclicing\n",
    "\n",
    "print(x[0:49:3])#step sclicing\n",
    "\n",
    "print(x[::]) #default value will be 1\n",
    "\n",
    "print(x[5:14])\n",
    "\n"
   ]
  },
  {
   "cell_type": "markdown",
   "id": "a4926481",
   "metadata": {},
   "source": [
    "#### Sclicing using Reverse indexing \\ negative indexing"
   ]
  },
  {
   "cell_type": "code",
   "execution_count": 91,
   "id": "3bd0294b",
   "metadata": {},
   "outputs": [
    {
     "data": {
      "text/plain": [
       "'enigami ot doog sti noitanigami nwo ym ni nomaerod ma i'"
      ]
     },
     "execution_count": 91,
     "metadata": {},
     "output_type": "execute_result"
    }
   ],
   "source": [
    "x[-1:-222:-1]"
   ]
  },
  {
   "cell_type": "code",
   "execution_count": 92,
   "id": "5ccea1f4",
   "metadata": {},
   "outputs": [
    {
     "data": {
      "text/plain": [
       "'enigami ot doog sti n'"
      ]
     },
     "execution_count": 92,
     "metadata": {},
     "output_type": "execute_result"
    }
   ],
   "source": [
    "x[-1:-22:-1]"
   ]
  },
  {
   "cell_type": "code",
   "execution_count": 93,
   "id": "115c8b69",
   "metadata": {},
   "outputs": [
    {
     "name": "stdout",
     "output_type": "stream",
     "text": [
      "7\n"
     ]
    },
    {
     "data": {
      "text/plain": [
       "'areema'"
      ]
     },
     "execution_count": 93,
     "metadata": {},
     "output_type": "execute_result"
    }
   ],
   "source": [
    "x='sameera'\n",
    "\n",
    "print (len(x))\n",
    "\n",
    "x[5:0:-1]\n",
    "\n",
    "x[6:0:-1]"
   ]
  },
  {
   "cell_type": "code",
   "execution_count": 94,
   "id": "c5b82cf5",
   "metadata": {},
   "outputs": [
    {
     "data": {
      "text/plain": [
       "''"
      ]
     },
     "execution_count": 94,
     "metadata": {},
     "output_type": "execute_result"
    }
   ],
   "source": [
    "x[0:8:-1]"
   ]
  },
  {
   "cell_type": "markdown",
   "id": "f73ce12f",
   "metadata": {},
   "source": [
    "### concatnation of strings :\n",
    " * adding two strings"
   ]
  },
  {
   "cell_type": "code",
   "execution_count": 95,
   "id": "c1645169",
   "metadata": {},
   "outputs": [
    {
     "data": {
      "text/plain": [
       "'sameera'"
      ]
     },
     "execution_count": 95,
     "metadata": {},
     "output_type": "execute_result"
    }
   ],
   "source": [
    "a,b= 'sam','eera'\n",
    "\n",
    "c= a+b\n",
    "\n",
    "c\n"
   ]
  },
  {
   "cell_type": "markdown",
   "id": "05d62c16",
   "metadata": {},
   "source": [
    "* <b>Question: </b> Are strings immutable ? and if yes then why?\n",
    "\n",
    "*  <b> Answer : </b> Strings are <u>immutable </u> in programming languages like Python  for <i>efficiency, hashing, thread safety, and maintaining consistency</i>. Immutability ensures that when you manipulate a string, a new one is created instead of modifying the existing one, making operations more memory-efficient, especially with large strings. Immutability also enables hash stability, crucial for data structures like dictionaries, and ensures thread safety, as concurrent modifications can't lead to unexpected behavior. The consistency and predictability offered by immutability simplify code understanding and maintenance, providing a reliable foundation for string manipulation in various contexts.\n",
    "\n",
    "* A string is immutable because we can't change its value after defining it. Furthermore, once we assign a value to a string, it receives an id based on that value we assigned. Hence if we change the value of that string, it causes to change its id. Therefore, strings are immutable."
   ]
  },
  {
   "cell_type": "markdown",
   "id": "334bd301",
   "metadata": {},
   "source": [
    "# String methods\n",
    "\n",
    "* There are numerous string methods in Python that allow you to manipulate and work with strings.\n",
    "\n",
    "* Below are some of the methode used by us,\n",
    "\n",
    "<b>'_add_', '__class__', '__contains__', '__delattr__', '__dir__', '__doc__', '__eq__', '__format__', '__ge__', '__getattribute__', '__getitem__', '__getnewargs__', '__getstate__', '__gt__', '__hash__', '__init__', '__init_subclass__', '__iter__', '__le__', '__len__', '__lt__', '__mod__', '__mul__', '__ne__', '__new__', '__reduce__', '__reduce_ex__', '__repr__', '__rmod__', '__rmul__', '__setattr__', '__sizeof__', '__str__', '__subclasshook__',capitalize', 'casefold', 'center', 'count', 'encode', 'endswith', 'expandtabs', 'find', 'format', 'format_map', 'index', 'isalnum', 'isalpha', 'isascii', 'isdecimal', 'isdigit', 'isidentifier', 'islower', 'isnumeric', 'isprintable', 'isspace', 'istitle', 'isupper', 'join', 'ljust', 'lower', 'lstrip', 'maketrans', 'partition', 'removeprefix', 'removesuffix', 'replace', 'rfind', 'rindex', 'rjust', 'rpartition', 'rsplit', 'rstrip', 'split', 'splitlines', 'startswith', 'strip', 'swapcase', 'title', 'translate', 'upper', 'zfill'</b>\n"
   ]
  },
  {
   "cell_type": "markdown",
   "id": "6dff66e0",
   "metadata": {},
   "source": [
    "# Todays task\n",
    "\n",
    "## Use help() to understand each parameter of all the string methods that were covered in class so far.Document the same with different examples withproper explanation of what the method does and its parameters.\n",
    "\n",
    "\n",
    "# <u>Documentation</u> :\n",
    "### documentation refers to information that describes the usage and details of a module, function, class, or any other part of the Python language. Good documentation helps users understand how to use the code and provides insights into its functionality.\n",
    "\n",
    "#### It can be syntaxed as \"help()\"\n",
    "\n",
    "## 'Help' is an method used to find the <b><i> documentaion</b></i>\n",
    "\n",
    "* below are some of the examples\n"
   ]
  },
  {
   "cell_type": "code",
   "execution_count": 96,
   "id": "885f2652",
   "metadata": {},
   "outputs": [
    {
     "name": "stdout",
     "output_type": "stream",
     "text": [
      "Help on method_descriptor:\n",
      "\n",
      "find(...)\n",
      "    S.find(sub[, start[, end]]) -> int\n",
      "    \n",
      "    Return the lowest index in S where substring sub is found,\n",
      "    such that sub is contained within S[start:end].  Optional\n",
      "    arguments start and end are interpreted as in slice notation.\n",
      "    \n",
      "    Return -1 on failure.\n",
      "\n"
     ]
    }
   ],
   "source": [
    "help(str.find)"
   ]
  },
  {
   "cell_type": "markdown",
   "id": "56dcbc91",
   "metadata": {},
   "source": [
    "### find() method returns the lowest index or first occurrence of the substring if it is found in a given string. If it is not found, then it returns -1.\n",
    "\n",
    "Syntax: str_obj.find(sub, start, end)\n"
   ]
  },
  {
   "cell_type": "code",
   "execution_count": 97,
   "id": "cf9972f6",
   "metadata": {},
   "outputs": [
    {
     "data": {
      "text/plain": [
       "16"
      ]
     },
     "execution_count": 97,
     "metadata": {},
     "output_type": "execute_result"
    }
   ],
   "source": [
    "x=\"Betty Botter bought some butterBut she said the butter’s bitter If I put it in my batter, it will make my batter bitterBut a bit of better butter will make my batter better So ‘twas better Betty Botter bought a bit of better butter\"\n",
    "\n",
    "x.find('g')"
   ]
  },
  {
   "cell_type": "code",
   "execution_count": 98,
   "id": "85ef744f",
   "metadata": {
    "scrolled": false
   },
   "outputs": [
    {
     "name": "stdout",
     "output_type": "stream",
     "text": [
      "Help on method_descriptor:\n",
      "\n",
      "lower(self, /)\n",
      "    Return a copy of the string converted to lowercase.\n",
      "\n"
     ]
    }
   ],
   "source": [
    "help(str.lower)"
   ]
  },
  {
   "cell_type": "code",
   "execution_count": 99,
   "id": "f8d09cb6",
   "metadata": {
    "scrolled": true
   },
   "outputs": [
    {
     "name": "stdout",
     "output_type": "stream",
     "text": [
      "Help on method_descriptor:\n",
      "\n",
      "upper(self, /)\n",
      "    Return a copy of the string converted to uppercase.\n",
      "\n"
     ]
    }
   ],
   "source": [
    "help(str.upper)"
   ]
  },
  {
   "cell_type": "code",
   "execution_count": 100,
   "id": "7d4d0736",
   "metadata": {
    "scrolled": false
   },
   "outputs": [
    {
     "name": "stdout",
     "output_type": "stream",
     "text": [
      "Help on method_descriptor:\n",
      "\n",
      "rfind(...)\n",
      "    S.rfind(sub[, start[, end]]) -> int\n",
      "    \n",
      "    Return the highest index in S where substring sub is found,\n",
      "    such that sub is contained within S[start:end].  Optional\n",
      "    arguments start and end are interpreted as in slice notation.\n",
      "    \n",
      "    Return -1 on failure.\n",
      "\n"
     ]
    }
   ],
   "source": [
    "help(str.rfind)"
   ]
  },
  {
   "cell_type": "markdown",
   "id": "d04d60b4",
   "metadata": {},
   "source": [
    "### rfind()\n",
    "\n",
    "* finds the occurance or index of the alphabet or word from the right hand side\n",
    "\n",
    "* In r find the start point should always from high value to low value"
   ]
  },
  {
   "cell_type": "code",
   "execution_count": 101,
   "id": "fbe0d33e",
   "metadata": {},
   "outputs": [
    {
     "data": {
      "text/plain": [
       "195"
      ]
     },
     "execution_count": 101,
     "metadata": {},
     "output_type": "execute_result"
    }
   ],
   "source": [
    "x.rfind('B')"
   ]
  },
  {
   "cell_type": "code",
   "execution_count": 102,
   "id": "118131a9",
   "metadata": {},
   "outputs": [
    {
     "data": {
      "text/plain": [
       "6"
      ]
     },
     "execution_count": 102,
     "metadata": {},
     "output_type": "execute_result"
    }
   ],
   "source": [
    "'Sameera'.rfind('a',2)"
   ]
  },
  {
   "cell_type": "code",
   "execution_count": 103,
   "id": "8c0e51fa",
   "metadata": {},
   "outputs": [
    {
     "name": "stdout",
     "output_type": "stream",
     "text": [
      "Help on method_descriptor:\n",
      "\n",
      "count(...)\n",
      "    S.count(sub[, start[, end]]) -> int\n",
      "    \n",
      "    Return the number of non-overlapping occurrences of substring sub in\n",
      "    string S[start:end].  Optional arguments start and end are\n",
      "    interpreted as in slice notation.\n",
      "\n"
     ]
    }
   ],
   "source": [
    "help(str.count)"
   ]
  },
  {
   "cell_type": "code",
   "execution_count": 104,
   "id": "2cdbbcdb",
   "metadata": {},
   "outputs": [
    {
     "data": {
      "text/plain": [
       "4"
      ]
     },
     "execution_count": 104,
     "metadata": {},
     "output_type": "execute_result"
    }
   ],
   "source": [
    "x.count('butter')"
   ]
  },
  {
   "cell_type": "code",
   "execution_count": 105,
   "id": "182b7a35",
   "metadata": {},
   "outputs": [
    {
     "data": {
      "text/plain": [
       "15"
      ]
     },
     "execution_count": 105,
     "metadata": {},
     "output_type": "execute_result"
    }
   ],
   "source": [
    "x.count('b',27)"
   ]
  },
  {
   "cell_type": "code",
   "execution_count": 106,
   "id": "bb8cfd60",
   "metadata": {
    "scrolled": true
   },
   "outputs": [
    {
     "name": "stdout",
     "output_type": "stream",
     "text": [
      "Help on method_descriptor:\n",
      "\n",
      "index(...)\n",
      "    S.index(sub[, start[, end]]) -> int\n",
      "    \n",
      "    Return the lowest index in S where substring sub is found,\n",
      "    such that sub is contained within S[start:end].  Optional\n",
      "    arguments start and end are interpreted as in slice notation.\n",
      "    \n",
      "    Raises ValueError when the substring is not found.\n",
      "\n"
     ]
    }
   ],
   "source": [
    "help(str.index)"
   ]
  },
  {
   "cell_type": "markdown",
   "id": "e36e8099",
   "metadata": {},
   "source": [
    "### Index()-depending on your logic if you want to throw an error or dont want to throw an error..find gives an -1 as an output and index gives us an value error"
   ]
  },
  {
   "cell_type": "code",
   "execution_count": 107,
   "id": "a3675a90",
   "metadata": {},
   "outputs": [
    {
     "data": {
      "text/plain": [
       "1"
      ]
     },
     "execution_count": 107,
     "metadata": {},
     "output_type": "execute_result"
    }
   ],
   "source": [
    "m='malyalam'\n",
    "\n",
    "m.index('a')"
   ]
  },
  {
   "cell_type": "code",
   "execution_count": 108,
   "id": "193a4f0b",
   "metadata": {
    "scrolled": true
   },
   "outputs": [
    {
     "name": "stdout",
     "output_type": "stream",
     "text": [
      "Help on method_descriptor:\n",
      "\n",
      "rindex(...)\n",
      "    S.rindex(sub[, start[, end]]) -> int\n",
      "    \n",
      "    Return the highest index in S where substring sub is found,\n",
      "    such that sub is contained within S[start:end].  Optional\n",
      "    arguments start and end are interpreted as in slice notation.\n",
      "    \n",
      "    Raises ValueError when the substring is not found.\n",
      "\n"
     ]
    }
   ],
   "source": [
    "help(str.rindex)"
   ]
  },
  {
   "cell_type": "code",
   "execution_count": 109,
   "id": "2b270305",
   "metadata": {},
   "outputs": [
    {
     "data": {
      "text/plain": [
       "6"
      ]
     },
     "execution_count": 109,
     "metadata": {},
     "output_type": "execute_result"
    }
   ],
   "source": [
    "m.rindex('a')"
   ]
  },
  {
   "cell_type": "code",
   "execution_count": 110,
   "id": "40c81efd",
   "metadata": {
    "scrolled": true
   },
   "outputs": [
    {
     "ename": "ValueError",
     "evalue": "substring not found",
     "output_type": "error",
     "traceback": [
      "\u001b[1;31m---------------------------------------------------------------------------\u001b[0m",
      "\u001b[1;31mValueError\u001b[0m                                Traceback (most recent call last)",
      "Cell \u001b[1;32mIn[110], line 1\u001b[0m\n\u001b[1;32m----> 1\u001b[0m m\u001b[38;5;241m.\u001b[39mrindex(\u001b[38;5;124m'\u001b[39m\u001b[38;5;124mz\u001b[39m\u001b[38;5;124m'\u001b[39m)\n",
      "\u001b[1;31mValueError\u001b[0m: substring not found"
     ]
    }
   ],
   "source": [
    "m.rindex('z')#uncomment to see the error"
   ]
  },
  {
   "cell_type": "code",
   "execution_count": null,
   "id": "320aa2ba",
   "metadata": {
    "scrolled": true
   },
   "outputs": [],
   "source": [
    "help(str.replace)"
   ]
  },
  {
   "cell_type": "code",
   "execution_count": null,
   "id": "d8bdbce7",
   "metadata": {},
   "outputs": [],
   "source": [
    "m.replace('m','M')"
   ]
  },
  {
   "cell_type": "code",
   "execution_count": null,
   "id": "4c015867",
   "metadata": {},
   "outputs": [],
   "source": [
    "m.replace('a','A',4)"
   ]
  },
  {
   "cell_type": "code",
   "execution_count": null,
   "id": "74710133",
   "metadata": {
    "scrolled": true
   },
   "outputs": [],
   "source": [
    "help(str.split)"
   ]
  },
  {
   "cell_type": "markdown",
   "id": "45a06098",
   "metadata": {},
   "source": [
    "#### split()\n",
    "* takes an entire string and splits it into diffrent rows as seperate words.\n"
   ]
  },
  {
   "cell_type": "code",
   "execution_count": null,
   "id": "c88849de",
   "metadata": {
    "scrolled": true
   },
   "outputs": [],
   "source": [
    "x.split()"
   ]
  },
  {
   "cell_type": "code",
   "execution_count": null,
   "id": "b7ee4861",
   "metadata": {
    "scrolled": true
   },
   "outputs": [],
   "source": [
    "x.split(' ',maxsplit =5 ) #it splits from left to right"
   ]
  },
  {
   "cell_type": "code",
   "execution_count": null,
   "id": "30ae418d",
   "metadata": {},
   "outputs": [],
   "source": [
    "help(str.rsplit)"
   ]
  },
  {
   "cell_type": "code",
   "execution_count": null,
   "id": "e81f8d22",
   "metadata": {},
   "outputs": [],
   "source": [
    "x.rsplit(maxsplit=4)# it splits from right to left"
   ]
  },
  {
   "cell_type": "markdown",
   "id": "a2384426",
   "metadata": {},
   "source": [
    "## partition(),rpartition()\n",
    "\n",
    "* partiotion will give three tokens,into three parts.\n",
    "\n",
    "* The partition() method searches for aspecified string, and splits the string into a tuple containing three elements."
   ]
  },
  {
   "cell_type": "code",
   "execution_count": null,
   "id": "50e65ad5",
   "metadata": {},
   "outputs": [],
   "source": [
    "m.partition('z')#gives two empty strings if it doesnt have the alphabet in the string then it will show the default empty strings"
   ]
  },
  {
   "cell_type": "code",
   "execution_count": null,
   "id": "463ed618",
   "metadata": {
    "scrolled": false
   },
   "outputs": [],
   "source": [
    "help(str.partition)"
   ]
  },
  {
   "cell_type": "code",
   "execution_count": null,
   "id": "2a9d665e",
   "metadata": {},
   "outputs": [],
   "source": [
    "x.partition(' ')"
   ]
  },
  {
   "cell_type": "code",
   "execution_count": null,
   "id": "8e4a75d1",
   "metadata": {
    "scrolled": false
   },
   "outputs": [],
   "source": [
    "help(str.rpartition)"
   ]
  },
  {
   "cell_type": "markdown",
   "id": "ead503b5",
   "metadata": {},
   "source": [
    "### rpartition() Method split the given string into three parts. rpartition() starts looking for separator from the right side, till the separator is found and return a tuple which contains part of the string before separator, the separator and the part after the separator."
   ]
  },
  {
   "cell_type": "code",
   "execution_count": null,
   "id": "7df57304",
   "metadata": {},
   "outputs": [],
   "source": [
    "m.rpartition('a')"
   ]
  },
  {
   "cell_type": "markdown",
   "id": "5cdc3149",
   "metadata": {},
   "source": [
    "# Conclution:\n",
    "\n",
    "* we can conclude this topic by saying that Doc strings are used to document functions, classes, and modules.Good documentation enhances code readability and understanding ."
   ]
  },
  {
   "cell_type": "code",
   "execution_count": null,
   "id": "a0627fff",
   "metadata": {},
   "outputs": [],
   "source": []
  }
 ],
 "metadata": {
  "kernelspec": {
   "display_name": "Python 3 (ipykernel)",
   "language": "python",
   "name": "python3"
  },
  "language_info": {
   "codemirror_mode": {
    "name": "ipython",
    "version": 3
   },
   "file_extension": ".py",
   "mimetype": "text/x-python",
   "name": "python",
   "nbconvert_exporter": "python",
   "pygments_lexer": "ipython3",
   "version": "3.11.5"
  }
 },
 "nbformat": 4,
 "nbformat_minor": 5
}
